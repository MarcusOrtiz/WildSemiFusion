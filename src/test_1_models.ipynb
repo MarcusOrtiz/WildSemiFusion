{
 "cells": [
  {
   "cell_type": "code",
   "outputs": [],
   "source": [
    "import torch\n",
    "import torch.nn as nn\n",
    "import torch.nn.functional as F"
   ],
   "metadata": {
    "collapsed": true,
    "ExecuteTime": {
     "end_time": "2024-11-20T06:54:44.645226Z",
     "start_time": "2024-11-20T06:54:42.603481Z"
    }
   },
   "id": "initial_id",
   "execution_count": 1
  },
  {
   "cell_type": "markdown",
   "source": [
    "### Creating dataloader to resize image and mask together\n",
    "Using relis-2d"
   ],
   "metadata": {
    "collapsed": false
   },
   "id": "15f1e18188c1ab2c"
  },
  {
   "cell_type": "code",
   "outputs": [],
   "source": [
    "import torch\n",
    "from torch.utils.data import Dataset\n",
    "from torchvision import datasets, transforms\n",
    "from PIL import Image\n",
    "\n",
    "RESIZE = (224, 224)\n",
    "\n",
    "def resize_image_and_mask(image, mask):\n",
    "    resize_transform = transforms.Resize(RESIZE, interpolation=Image.BILINEAR)\n",
    "    resized_image = resize_transform(image)\n",
    "    # Use NEAREST interpolation for masks to preserve label integrity\n",
    "    resize_transform_mask = transforms.Resize(RESIZE, interpolation=Image.NEAREST)\n",
    "    resized_mask = resize_transform_mask(mask)\n",
    "    return resized_image, resized_mask\n",
    "\n",
    "class CustomDataset(Dataset):\n",
    "    def __init__(self, root, transform=None, target_transform=None):\n",
    "        self.dataset = datasets.OxfordIIITPet(root=root, download=True, target_types='segmentation')\n",
    "        self.transform = transform\n",
    "        self.target_transform = target_transform\n",
    "\n",
    "    def __len__(self):\n",
    "        return len(self.dataset)\n",
    "\n",
    "    def __getitem__(self, idx):\n",
    "        image, mask = self.dataset[idx]\n",
    "        # Apply the custom resize function\n",
    "        image, mask = resize_image_and_mask(image, mask)\n",
    "        if self.transform:\n",
    "            image = self.transform(image)\n",
    "        if self.target_transform:\n",
    "            mask = self.target_transform(mask)\n",
    "        return image, mask\n",
    "        "
   ],
   "metadata": {
    "collapsed": false
   },
   "id": "1d18267c2478adf3"
  },
  {
   "cell_type": "code",
   "outputs": [],
   "source": [
    "import os\n",
    "\n",
    "SIMPLE_DATA_FILE_PATH = \"~/Projects/WildFusionPlus/input/2d_model_dummy/\"\n",
    "\n",
    "\n",
    "rgb_image_transform = transforms.Compose([\n",
    "    transforms.Resize((IMAGE_RESIZE[0], IMAGE_RESIZE[1])),  # Resize to a fixed size\n",
    "    transforms.ToTensor(),         # Convert image to PyTorch Tensor\n",
    "    transforms.Normalize(mean=[0.485, 0.456, 0.406], std=[0.229, 0.224, 0.225])\n",
    "])\n",
    "\n",
    "mask_transform = transforms.Compose([\n",
    "    transforms.Resize((224, 224)),  # Resize mask to match the image size\n",
    "    transforms.ToTensor()           # Convert mask to Tensor (values between 0 and 1)\n",
    "])\n",
    "\n",
    "# Load the Oxford-IIIT Pet dataset\n",
    "dataset = datasets.OxfordIIITPet(\n",
    "    root=SIMPLE_DATA_FILE_PATH,\n",
    "    download=True,\n",
    "    target_types='segmentation',  # Get segmentation masks\n",
    "    transform=rgb_image_transform,    # Apply image transformations\n",
    "    target_transform=mask_transform  # Apply mask transformations\n",
    ")\n"
   ],
   "metadata": {
    "collapsed": false
   },
   "id": "3e7eb6b535954eed"
  },
  {
   "cell_type": "code",
   "outputs": [],
   "source": [
    "class BlackAndWhiteCNN(nn.Module):\n",
    "    \"\"\"\n",
    "    Acts as black and white image input encoder for the compression layer\n",
    "    \n",
    "    CNNs are better with batch normalization, use it for BW\n",
    "    \"\"\"\n",
    "    def __init__(self):\n",
    "        super(BlackAndWhiteCNN, self).__init__()\n",
    "        pass\n",
    "\n",
    "class ColorCNN(nn.Module):\n",
    "    \"\"\"\n",
    "    Acts as color image input encoder for the compression layer\n",
    "    - Use LAB\n",
    "    - Deeper than BlackAndWhiteCNN\n",
    "    - CNNs are better with batch normalization, however, first have to understand why colornet uses LayerNorm\n",
    "    \"\"\"\n",
    "    def __init__(self):\n",
    "        super(ColorCNN, self).__init__()\n",
    "        pass\n",
    "\n",
    "class ColorNet(nn.Module):\n",
    "    \"\"\"\n",
    "    Labnet is used to quantize the RGB\n",
    "    \n",
    "    Design Question: Should the expert be trained on logits or softmax? If logits then we can produce a bigger weight\n",
    "    which may make more sense. It can also be trained on softmax and then in the end to end it will not be connected\n",
    "    with the softmax layer\n",
    "    \"\"\"\n",
    "    def __init__(self, in_features=512, hidden_dim=256, num_bins=313):\n",
    "        super(ColorNet, self).__init__()\n",
    "        self.fc1 = nn.Linear(in_features, hidden_dim)\n",
    "        self.bn1 = nn.LayerNorm(hidden_dim)  # Use LayerNorm\n",
    "        self.dropout1 = nn.Dropout(0.1) \n",
    "\n",
    "        self.fc2 = nn.Linear(hidden_dim, hidden_dim)\n",
    "        self.bn2 = nn.LayerNorm(hidden_dim)\n",
    "        self.dropout2 = nn.Dropout(0.1)\n",
    "\n",
    "        self.fc3 = nn.Linear(hidden_dim, 3 * num_bins)\n",
    "\n",
    "    def forward(self, x):\n",
    "        if len(x.shape) > 2:\n",
    "            x = x.view(-1, x.shape[-1])  # Flatten for LayerNorm\n",
    "        x = F.leaky_relu(self.bn1(self.fc1(x)), negative_slope=0.01)\n",
    "        x = self.dropout1(x)\n",
    "        x = F.leaky_relu(self.bn2(self.fc2(x)), negative_slope=0.01)\n",
    "        x = self.dropout2(x)\n",
    "        x = self.fc3(x)\n",
    "        x = x.view(-1, 3, 313)\n",
    "        x = F.softmax(x, dim=-1)  # Apply Softmax to color bins\n",
    "        return x\n",
    "    \n",
    "model = ColorNet()\n",
    "torch.save(model.state_dict(), \"colornet_model.pth\")\n"
   ],
   "metadata": {
    "collapsed": false,
    "ExecuteTime": {
     "end_time": "2024-11-20T06:54:46.245102Z",
     "start_time": "2024-11-20T06:54:46.215916Z"
    }
   },
   "id": "3233efffe8f20a52",
   "execution_count": 2
  },
  {
   "cell_type": "code",
   "outputs": [],
   "source": [],
   "metadata": {
    "collapsed": false
   },
   "id": "d157764d29068d1a"
  }
 ],
 "metadata": {
  "kernelspec": {
   "display_name": "Python 3",
   "language": "python",
   "name": "python3"
  },
  "language_info": {
   "codemirror_mode": {
    "name": "ipython",
    "version": 2
   },
   "file_extension": ".py",
   "mimetype": "text/x-python",
   "name": "python",
   "nbconvert_exporter": "python",
   "pygments_lexer": "ipython2",
   "version": "2.7.6"
  }
 },
 "nbformat": 4,
 "nbformat_minor": 5
}
