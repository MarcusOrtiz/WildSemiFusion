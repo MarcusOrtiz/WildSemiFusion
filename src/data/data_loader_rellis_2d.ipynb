{
 "cells": [
  {
   "cell_type": "code",
   "execution_count": 1,
   "id": "initial_id",
   "metadata": {
    "collapsed": true,
    "ExecuteTime": {
     "end_time": "2024-11-21T23:17:26.805289Z",
     "start_time": "2024-11-21T23:17:24.794768Z"
    }
   },
   "outputs": [],
   "source": [
    "import torch\n",
    "from torch.utils.data import Dataset\n",
    "\n"
   ]
  },
  {
   "cell_type": "code",
   "outputs": [],
   "source": [
    "import torch\n",
    "from torch.utils.data import Dataset\n",
    "from torchvision import datasets, transforms\n",
    "from PIL import Image\n",
    "\n",
    "RESIZE = (224, 224)\n",
    "\n",
    "def resize_image_and_mask(image, mask):\n",
    "    resize_transform = transforms.Resize(RESIZE, interpolation=Image.BILINEAR)\n",
    "    resized_image = resize_transform(image)\n",
    "    # Use NEAREST interpolation for masks to preserve label integrity\n",
    "    resize_transform_mask = transforms.Resize(RESIZE, interpolation=Image.NEAREST)\n",
    "    resized_mask = resize_transform_mask(mask)\n",
    "    return resized_image, resized_mask\n",
    "        "
   ],
   "metadata": {
    "collapsed": false
   },
   "id": "f525147a25b1f605"
  },
  {
   "cell_type": "code",
   "outputs": [],
   "source": [
    "class Custom2DDataset(Dataset):\n",
    "    def __init__(self, root, transform=None, target_transform=None):\n",
    "        self.dataset = datasets.OxfordIIITPet(root=root, download=True, target_types='segmentation')\n",
    "        self.transform = transform\n",
    "        self.target_transform = target_transform\n",
    "\n",
    "    def __len__(self):\n",
    "        return len(self.dataset)\n",
    "\n",
    "    def __getitem__(self, idx):\n",
    "        image, mask = self.dataset[idx]\n",
    "        # Apply the custom resize function\n",
    "        image, mask = resize_image_and_mask(image, mask)\n",
    "        if self.transform:\n",
    "            image = self.transform(image)\n",
    "        if self.target_transform:\n",
    "            mask = self.target_transform(mask)\n",
    "        return image, mask"
   ],
   "metadata": {
    "collapsed": false
   },
   "id": "bcb890316563e4c4"
  }
 ],
 "metadata": {
  "kernelspec": {
   "display_name": "Python 3",
   "language": "python",
   "name": "python3"
  },
  "language_info": {
   "codemirror_mode": {
    "name": "ipython",
    "version": 2
   },
   "file_extension": ".py",
   "mimetype": "text/x-python",
   "name": "python",
   "nbconvert_exporter": "python",
   "pygments_lexer": "ipython2",
   "version": "2.7.6"
  }
 },
 "nbformat": 4,
 "nbformat_minor": 5
}
