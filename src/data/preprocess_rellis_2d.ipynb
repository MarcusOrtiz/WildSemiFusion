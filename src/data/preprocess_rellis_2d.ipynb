{
 "cells": [
  {
   "cell_type": "code",
   "execution_count": null,
   "id": "initial_id",
   "metadata": {
    "collapsed": true
   },
   "outputs": [],
   "source": [
    "import yaml\n",
    "import os\n",
    "import numpy as np\n",
    "from PIL import Image\n",
    "from tqdm import tqdm\n",
    "\n",
    "# Load ontology\n",
    "with open(\"ontology.yaml\", \"r\") as file:\n",
    "    ontology = yaml.safe_load(file)\n",
    "\n",
    "learning_map = {k: k for k in ontology[0]}\n",
    "\n",
    "# Preprocessing\n",
    "input_dir = \"path/to/pylon_camera_node_label_id/\"\n",
    "output_dir = \"path/to/preprocessed_labels/\"\n",
    "\n",
    "os.makedirs(output_dir, exist_ok=True)\n",
    "\n",
    "def convert_label(label, label_mapping):\n",
    "    temp = label.copy()\n",
    "    for raw_id, mapped_id in label_mapping.items():\n",
    "        temp[label == raw_id] = mapped_id\n",
    "    return temp\n",
    "\n",
    "for label_file in tqdm(os.listdir(input_dir)):\n",
    "    label = np.array(Image.open(os.path.join(input_dir, label_file)))\n",
    "    processed_label = convert_label(label, learning_map)\n",
    "    Image.fromarray(processed_label).save(os.path.join(output_dir, label_file))\n"
   ]
  },
  {
   "cell_type": "code",
   "outputs": [],
   "source": [],
   "metadata": {
    "collapsed": false
   },
   "id": "1fd748875fd0f833"
  },
  {
   "cell_type": "code",
   "outputs": [],
   "source": [],
   "metadata": {
    "collapsed": false
   },
   "id": "21a42f7572b5c0a7"
  },
  {
   "cell_type": "code",
   "outputs": [],
   "source": [],
   "metadata": {
    "collapsed": false
   },
   "id": "d6d013e6efe086a0"
  }
 ],
 "metadata": {
  "kernelspec": {
   "display_name": "Python 3",
   "language": "python",
   "name": "python3"
  },
  "language_info": {
   "codemirror_mode": {
    "name": "ipython",
    "version": 2
   },
   "file_extension": ".py",
   "mimetype": "text/x-python",
   "name": "python",
   "nbconvert_exporter": "python",
   "pygments_lexer": "ipython2",
   "version": "2.7.6"
  }
 },
 "nbformat": 4,
 "nbformat_minor": 5
}
