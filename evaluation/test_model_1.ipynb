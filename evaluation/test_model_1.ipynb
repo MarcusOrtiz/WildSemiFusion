{
 "cells": [
  {
   "cell_type": "code",
   "execution_count": null,
   "id": "63065440e7b655b5",
   "metadata": {
    "collapsed": false
   },
   "outputs": [],
   "source": [
    "# Load raw data\n",
    "import os\n",
    "import sys\n",
    "module_path = os.path.abspath('/home/mjo24/Projects/WildSemiFusion/')\n",
    "if module_path not in sys.path:\n",
    "    sys.path.append(module_path)\n",
    "print(module_path)\n",
    "\n",
    "import src.config as cfg\n",
    "import matplotlib.pyplot as plt\n",
    "from cv2 import imread\n",
    "import matplotlib\n",
    "import numpy as np\n",
    "\n",
    "# Load train data\n",
    "# train_image_files = os.listdir(f\"{cfg.TRAIN_DIR}/pylon_camera_node\")\n",
    "# train_semantic_images = os.listdir(f\"{cfg.TRAIN_DIR}/pylon_camera_node_label_id\")\n",
    "# train_rgb_images = [image_to_array(f\"{cfg.TRAIN_DIR}/pylon_camera_node/{image_file}\") for image_file in train_image_files]\n",
    "image_path = os.path.join(cfg.BASE_DIR, \"../input/rellis_2d_preprocessed/train/00000/pylon_camera_node/frame000308-1581624683_550.jpg\")\n",
    "# print(os.path.abspath(image_path))\n",
    "image = imread(image_path)\n",
    "print(matplotlib.__version__)\n",
    "print(np.__version__)\n",
    "print(image)\n",
    "plt.imshow(image)\n",
    "# train_semantics = [image_to_array(f\"{cfg.TRAIN_DIR}/pylon_camera_node_label_id/{label_file}\") for label_file in train_semantic_images]\n",
    "# train_preloaded_data = {'rgb_images': train_rgb_images, 'gt_semantics': train_semantics}\n",
    "\n",
    "# # Load val data\n",
    "# val_image_files = os.listdir(f\"{cfg.VAL_DIR}/pylon_camera_node\")\n",
    "# val_semantic_images = os.listdir(f\"{cfg.VAL_DIR}/pylon_camera_node_label_id\")\n",
    "# val_rgb_images = [image_to_array(f\"{cfg.VAL_DIR}/pylon_camera_node/{image_file}\") for image_file in val_image_files]\n",
    "# val_semantics = [image_to_array(f\"{cfg.VAL_DIR}/pylon_camera_node_label_id/{label_file}\") for label_file in val_semantic_images]\n",
    "# val_preloaded_data = {'rgb_images': val_rgb_images, 'gt_semantics': train_semantics}"
   ]
  },
  {
   "cell_type": "code",
   "execution_count": null,
   "id": "initial_id",
   "metadata": {
    "collapsed": true,
    "jupyter": {
     "outputs_hidden": true
    }
   },
   "outputs": [],
   "source": [
    "# Load dataset\n",
    "import torch\n",
    "from torch.utils.data import DataLoader\n",
    "from src.data.rellis_2D_dataset import Rellis2DDataset\n",
    "from src.models.model_1 import MultiModalNetwork\n",
    "\n",
    "# Setup dataset\n",
    "train_dataset = Rellis2DDataset(preloaded_data=train_preloaded_data, num_bins=cfg.NUM_BINS, image_size=cfg.IMAGE_SIZE, image_noise=cfg.IMAGE_NOISE, image_mask_rate=cfg.IMAGE_MASK_RATE)\n",
    "# val_dataset = Rellis2DDataset(preloaded_data=val_preloaded_data, num_bins=cfg.NUM_BINS, image_size=cfg.IMAGE_SIZE, image_noise=cfg.IMAGE_NOISE, image_mask_rate=cfg.IMAGE_MASK_RATE)\n",
    "print(\"Datasets created successfully\")\n",
    "\n",
    "# Load dataset\n",
    "train_dataloader = DataLoader(train_dataset, batch_size=cfg.BATCH_SIZE, shuffle=True, num_workers=cfg.NUM_WORKERS, pin_memory=False, drop_last=True)\n",
    "# val_dataloader = DataLoader(val_dataset, batch_size=cfg.BATCH_SIZE, shuffle=False, num_workers=cfg.NUM_WORKERS, pin_memory=False, drop_last=True)\n",
    "print(\"DataLoaders created successfully\")"
   ]
  },
  {
   "cell_type": "code",
   "outputs": [],
   "source": [
    "# Verify dataset\n",
    "import matplotlib.pyplot as plt\n",
    "from src.data.utils.data_processing import lab_discretized_to_rgb\n",
    "\n",
    "count = 0 \n",
    "for idx in range(len(train_dataset)):\n",
    "    print(\"Original RGB Shape: \", train_rgb_images[idx].shape)\n",
    "\n",
    "    sample = train_dataset[idx]\n",
    "    gt_semantics = sample['gt_semantics']\n",
    "    gt_color = sample['gt_color']\n",
    "    lab_image = sample['lab_image']\n",
    "    gray_image = sample['gray_image']\n",
    "\n",
    "    fig, axs = plt.subplots(3, 2, figsize=(15, 15))\n",
    "    print(f\"GT Semantics Shaep: {gt_semantics.numpy().shape}\")\n",
    "    print(f\"GT Color Shape: {gt_color.numpy().shape}\")\n",
    "    print(f\"LAB Image Shape: {lab_image.numpy().shape}\")\n",
    "    print(f\"Gray Image Shape: {gray_image.numpy().shape}\")\n",
    "    axs[0, 0].imshow(lab_discretized_to_rgb(gt_color.numpy(), cfg.NUM_BINS))\n",
    "    axs[0, 0].set_title('GT LAB Image to RGB')\n",
    "    axs[0, 1].imshow(lab_discretized_to_rgb(lab_image.numpy().transpose(1, 2, 0), cfg.NUM_BINS))\n",
    "    axs[0, 1].set_title('Masked Noisy LAB Image to RGB')\n",
    "\n",
    "\n",
    "    axs[1, 0].imshow(gray_image.numpy().transpose(1, 2, 0), cmap='gray')\n",
    "    axs[1, 0].set_title('Gray Image')\n",
    "    axs[1, 1].imshow(train_rgb_images[0])\n",
    "    axs[1, 1].set_title('Original RGB Image')\n",
    "\n",
    "    axs[2, 0].imshow(gt_semantics.to(torch.uint8).numpy())\n",
    "    axs[2, 0].set_title('GT Semantics')\n",
    "\n",
    "    plt.tight_layout()\n",
    "    plt.show()\n",
    "\n",
    "    break"
   ],
   "metadata": {
    "collapsed": false
   },
   "id": "c53863f4372af78b"
  }
 ],
 "metadata": {
  "kernelspec": {
   "display_name": "Python 3 (ipykernel)",
   "language": "python",
   "name": "python3"
  },
  "language_info": {
   "codemirror_mode": {
    "name": "ipython",
    "version": 3
   },
   "file_extension": ".py",
   "mimetype": "text/x-python",
   "name": "python",
   "nbconvert_exporter": "python",
   "pygments_lexer": "ipython3",
   "version": "3.10.12"
  }
 },
 "nbformat": 4,
 "nbformat_minor": 5
}
